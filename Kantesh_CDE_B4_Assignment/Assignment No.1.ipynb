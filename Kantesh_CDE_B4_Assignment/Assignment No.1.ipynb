{
 "cells": [
  {
   "cell_type": "markdown",
   "id": "d09c3554-7161-4dd8-9458-8736577e57a2",
   "metadata": {},
   "source": [
    "# Part -1 Python Basics (Variables) Print Your Name with your Father name and Date of birth using suitable escape sequence charactor\n"
   ]
  },
  {
   "cell_type": "code",
   "execution_count": 1,
   "id": "10c4da43-447a-4667-92a3-a38787c089f4",
   "metadata": {},
   "outputs": [
    {
     "name": "stdout",
     "output_type": "stream",
     "text": [
      "Name:\t kantesh kumar\n",
      "F_Name:\t Wijjai kumar\n",
      "DOB:\t 29-6-2005\n"
     ]
    }
   ],
   "source": [
    "print(\"Name:\\t kantesh kumar\")\n",
    "print(\"F_Name:\\t Wijjai kumar\")\n",
    "print(\"DOB:\\t 29-6-2005\")"
   ]
  },
  {
   "cell_type": "markdown",
   "id": "869a43f7-fb22-4253-8f5d-b1e97836953c",
   "metadata": {},
   "source": [
    "# Write your small bio using variables and print it using print function\n"
   ]
  },
  {
   "cell_type": "code",
   "execution_count": 2,
   "id": "af05c71c-a4df-4820-88e7-789600b7fcf3",
   "metadata": {},
   "outputs": [
    {
     "name": "stdout",
     "output_type": "stream",
     "text": [
      "my name Is Kantesh Kumar i am Student Of Cloud Data Engineer  \n"
     ]
    }
   ],
   "source": [
    "Bio_data= (\"my name Is Kantesh Kumar i am Student Of Cloud Data Engineer  \")\n",
    "print(Bio_data)"
   ]
  },
  {
   "cell_type": "markdown",
   "id": "b8dc6f1b-3e56-4299-af88-71b021739616",
   "metadata": {},
   "source": [
    "# Write a program in which use all the operators we can use in Python"
   ]
  },
  {
   "cell_type": "code",
   "execution_count": 3,
   "id": "d532cbaa-6e7f-49f1-9bbf-5a9d27bef751",
   "metadata": {},
   "outputs": [
    {
     "name": "stdout",
     "output_type": "stream",
     "text": [
      "12\n",
      "1\n",
      "8\n",
      "0.1\n",
      "0\n",
      "103\n"
     ]
    }
   ],
   "source": [
    "Add = 5+7\n",
    "Sub = 9-8\n",
    "Mul = 2*4\n",
    "Div = 6/60\n",
    "Flo = 6//60\n",
    "Modulus = 103\n",
    "print(Add)\n",
    "print(Sub)\n",
    "print(Mul)\n",
    "print(Div)\n",
    "print(Flo)\n",
    "print(Modulus)"
   ]
  },
  {
   "cell_type": "markdown",
   "id": "d674efce-551d-42ba-9d18-fe20fdaa7f3f",
   "metadata": {},
   "source": [
    "# Completes the following steps of small task: Mention Marks of English , Islamiat and Maths out of 100 in 3 different variables Mention Variable of Total Marks and assign 300 to it Calculate Percentage"
   ]
  },
  {
   "cell_type": "code",
   "execution_count": 4,
   "id": "30d3e7f8-8c77-4694-bbac-9baa8a7d0f1f",
   "metadata": {},
   "outputs": [
    {
     "name": "stdout",
     "output_type": "stream",
     "text": [
      "78.66666666666666\n"
     ]
    }
   ],
   "source": [
    "English = 77\n",
    "Islamiat= 80\n",
    "Maths = 79\n",
    "Total_Marks = 300\n",
    "Percentage = (English+Islamiat+Maths)/Total_Marks*100\n",
    "print(Percentage)"
   ]
  },
  {
   "cell_type": "markdown",
   "id": "fc7b6e00-271f-450d-a205-af0b8898c87e",
   "metadata": {},
   "source": [
    "# Part -2 Python Basics (Conditional Statements) A company decided to give bonus of 5% to employee if his/her year of service is more than 5 years. Ask user for their salary and year of service and print the net bonus amount."
   ]
  },
  {
   "cell_type": "code",
   "execution_count": 6,
   "id": "72f0f856-6212-4d42-a60a-c45adddb22f1",
   "metadata": {},
   "outputs": [
    {
     "name": "stdin",
     "output_type": "stream",
     "text": [
      "Enter your Salary:  800000\n",
      "Enter your Service years:  8\n"
     ]
    },
    {
     "name": "stdout",
     "output_type": "stream",
     "text": [
      "your bonus is = 40000.0\n"
     ]
    }
   ],
   "source": [
    "Salary=int(input(\"Enter your Salary: \"))\n",
    "Years=int(input(\"Enter your Service years: \"))\n",
    "if(Years > 5):\n",
    "  print(\"your bonus is =\",5/100*Salary)\n",
    "else:\n",
    "  print(\"No bonus\")"
   ]
  },
  {
   "cell_type": "markdown",
   "id": "ef48079d-32a0-4a60-978c-442a30a6cd36",
   "metadata": {},
   "source": [
    "# Write a program to check whether a person is eligible for voting or not. (accept age from user) if age is greater than 17 eligible otherwise not eligible"
   ]
  },
  {
   "cell_type": "code",
   "execution_count": 7,
   "id": "0a841cb7-65ae-4309-9830-95350bf802aa",
   "metadata": {},
   "outputs": [
    {
     "name": "stdin",
     "output_type": "stream",
     "text": [
      "Enter you age 19\n"
     ]
    },
    {
     "name": "stdout",
     "output_type": "stream",
     "text": [
      "you are not Eligible: \n"
     ]
    }
   ],
   "source": [
    "Age=int(input(\"Enter you age\"))\n",
    "if(Age==17):\n",
    "  print(\"you are Eligible\")\n",
    "else:\n",
    "  print(\"you are not Eligible: \")"
   ]
  },
  {
   "cell_type": "markdown",
   "id": "bcc767a2-b89b-43bc-a3f9-ea289ec89d3b",
   "metadata": {},
   "source": [
    "# Write a program to check whether a number entered by user is even or odd."
   ]
  },
  {
   "cell_type": "code",
   "execution_count": 9,
   "id": "8bd7c4b3-0235-4bfe-82d3-615bb4521c83",
   "metadata": {},
   "outputs": [
    {
     "name": "stdin",
     "output_type": "stream",
     "text": [
      "Write a Number:  5\n"
     ]
    },
    {
     "name": "stdout",
     "output_type": "stream",
     "text": [
      "It is a Odd Number\n"
     ]
    }
   ],
   "source": [
    "Num=int(input(\"Write a Number: \"))\n",
    "if(Num%2==0):\n",
    "  print(\"It is a Even Numer\")\n",
    "else:\n",
    "  print(\"It is a Odd Number\")"
   ]
  },
  {
   "cell_type": "markdown",
   "id": "005e0eb5-b69a-4f02-9d0a-81ff0ae64a80",
   "metadata": {},
   "source": [
    "# Write a program to check whether a number is divisible by 7 or not. Show Answer"
   ]
  },
  {
   "cell_type": "code",
   "execution_count": 10,
   "id": "01e09903-b037-4477-8351-fff1d70e550d",
   "metadata": {},
   "outputs": [
    {
     "name": "stdin",
     "output_type": "stream",
     "text": [
      "Write a Number To Check:  8\n"
     ]
    },
    {
     "name": "stdout",
     "output_type": "stream",
     "text": [
      "Not Divisible by 7\n"
     ]
    }
   ],
   "source": [
    "Num=int(input(\"Write a Number To Check: \"))\n",
    "if(Num%7==0):\n",
    "  print(\"Divisible by 7\")\n",
    "else:\n",
    "  print(\"Not Divisible by 7\")"
   ]
  },
  {
   "cell_type": "markdown",
   "id": "41190ee7-99bb-4a9e-8d3f-2e95c6f43ac1",
   "metadata": {},
   "source": [
    "# Write a program to display \"Hello\" if a number entered by user is a multiple of five , otherwise print \"Bye\"."
   ]
  },
  {
   "cell_type": "code",
   "execution_count": 17,
   "id": "ad82491b-46fb-4b7c-89b4-9517cab5cf02",
   "metadata": {},
   "outputs": [
    {
     "name": "stdin",
     "output_type": "stream",
     "text": [
      "Enter a Number:  44\n"
     ]
    },
    {
     "name": "stdout",
     "output_type": "stream",
     "text": [
      "Bye\n"
     ]
    }
   ],
   "source": [
    "User=int(input(\"Enter a Number: \"))\n",
    "if(User%5==0):\n",
    "  print(\"hello\")\n",
    "else:\n",
    "  print(\"Bye\")"
   ]
  },
  {
   "cell_type": "markdown",
   "id": "c8ac6c69-8653-45bc-8639-1b4404dfc329",
   "metadata": {},
   "source": [
    "# Write a program to display the last digit of a number."
   ]
  },
  {
   "cell_type": "code",
   "execution_count": 12,
   "id": "4e7c2e2c-44dd-4b9b-a57f-e64f44a7384f",
   "metadata": {},
   "outputs": [
    {
     "name": "stdin",
     "output_type": "stream",
     "text": [
      "Enter your number 19838\n"
     ]
    },
    {
     "name": "stdout",
     "output_type": "stream",
     "text": [
      "8\n"
     ]
    }
   ],
   "source": [
    "Num=int(input(\"Enter your number\"))\n",
    "Last_digit=Num%10\n",
    "print(Last_digit)\n"
   ]
  },
  {
   "cell_type": "markdown",
   "id": "7408b0dd-0319-4db7-80a4-d3799deeec29",
   "metadata": {},
   "source": [
    "# Take values of length and breadth of a rectangle from user and print if it is square or rectangle."
   ]
  },
  {
   "cell_type": "code",
   "execution_count": 13,
   "id": "677bb00e-9c0a-44e9-a64f-36c0b17e7eba",
   "metadata": {},
   "outputs": [
    {
     "name": "stdin",
     "output_type": "stream",
     "text": [
      "Enter your Length:  34\n",
      "Enter your Breadh:  3\n"
     ]
    },
    {
     "name": "stdout",
     "output_type": "stream",
     "text": [
      "Rectangle\n"
     ]
    }
   ],
   "source": [
    "Length=int(input(\"Enter your Length: \"))\n",
    "Breadth=int(input(\"Enter your Breadh: \"))\n",
    "if(Length==Breadth):\n",
    "  print(\"Length\")\n",
    "else:\n",
    "  print(\"Rectangle\")"
   ]
  },
  {
   "cell_type": "markdown",
   "id": "6789c855-2f38-45cc-9722-008fe45b0d54",
   "metadata": {},
   "source": [
    "# Take two int values from user and print greatest among them."
   ]
  },
  {
   "cell_type": "code",
   "execution_count": 16,
   "id": "36c7aeb4-0f53-4c46-90ae-4786add21874",
   "metadata": {},
   "outputs": [
    {
     "name": "stdin",
     "output_type": "stream",
     "text": [
      "Enter your first int value Number:  44\n",
      "Enter your Secoud int value number:  555\n"
     ]
    },
    {
     "name": "stdout",
     "output_type": "stream",
     "text": [
      "Num2 is Greatest Number 555\n"
     ]
    }
   ],
   "source": [
    "Num1=int(input(\"Enter your first int value Number: \"))\n",
    "Num2=int(input(\"Enter your Secoud int value number: \"))\n",
    "if(Num1>Num2):\n",
    "  print(\"Num1 is Greatest numnber: \", Num1)\n",
    "else:\n",
    "  print(\"Num2 is Greatest Number\", Num2)"
   ]
  },
  {
   "cell_type": "markdown",
   "id": "c81882fc-7b2b-4f26-9ca3-9611fe9dc0ee",
   "metadata": {},
   "source": [
    "# A shop will give discount of 10% if the cost of purchased quantity is more than 1000. Ask user for quantity Suppose, one unit will cost 100. Judge and print total cost for user."
   ]
  },
  {
   "cell_type": "code",
   "execution_count": 127,
   "id": "9c891855-069c-46ce-b78d-6e752438297c",
   "metadata": {},
   "outputs": [
    {
     "name": "stdin",
     "output_type": "stream",
     "text": [
      "Enter your Quantity:  13\n"
     ]
    },
    {
     "name": "stdout",
     "output_type": "stream",
     "text": [
      "You Have 10% Discount:  130.0\n"
     ]
    }
   ],
   "source": [
    "quantity =int(input(\"Enter your Quantity: \"))\n",
    "unit_price = 100\n",
    "total = quantity*100\n",
    "if(total>1000):\n",
    "    print(\"You Have 10% Discount: \", 10/100*total )\n",
    "else:\n",
    "    print(\"You Have Not Discount: \")"
   ]
  },
  {
   "cell_type": "markdown",
   "id": "30b2b3e5-f52e-48ff-9b29-d2a3a88395bb",
   "metadata": {},
   "source": [
    "# A school has following rules for grading system:\n",
    "a. Below 25 - F\n",
    "b. 25 to 45 - E\n",
    "c. 45 to 50 - D\n",
    "d. 50 to 60 - C\n",
    "e. 60 to 80 - B\n",
    "f. Above 80 - A"
   ]
  },
  {
   "cell_type": "code",
   "execution_count": 70,
   "id": "142fe3c9-404d-4dff-ac98-b94fc77be0b7",
   "metadata": {},
   "outputs": [
    {
     "name": "stdin",
     "output_type": "stream",
     "text": [
      "Enter your marks:  81\n"
     ]
    },
    {
     "name": "stdout",
     "output_type": "stream",
     "text": [
      "You have Got Grade:  A\n"
     ]
    }
   ],
   "source": [
    "marks = int(input(\"Enter your marks: \"))\n",
    "marks=int(marks)\n",
    "if marks < 25:\n",
    "    grade = \"F\"\n",
    "elif marks <= 45:\n",
    "    grade = \"E\"\n",
    "elif marks <= 50:\n",
    "    grade = \"D\"\n",
    "elif marks <= 60:\n",
    "    grade = \"C\"\n",
    "elif marks <= 80:\n",
    "    grade = \"B\"\n",
    "else:\n",
    "    grade = \"A\"\n",
    "print(\"You have Got Grade: \",grade)\n"
   ]
  },
  {
   "cell_type": "markdown",
   "id": "0ab4f5db-4038-488e-bb49-bbec7f5a6439",
   "metadata": {},
   "source": [
    "# 14)A student will not be allowed to sit in exam if his/her attendence is less than 75%.\n",
    "Take following input from user\n",
    "Number of classes held\n",
    "Number of classes attended.\n",
    "And print\n",
    "percentage of class attended\n",
    "Is student is allowed to sit in exam or not."
   ]
  },
  {
   "cell_type": "code",
   "execution_count": 83,
   "id": "8f094bbf-940d-4e23-ac35-16a3d1595361",
   "metadata": {},
   "outputs": [
    {
     "name": "stdin",
     "output_type": "stream",
     "text": [
      " Number of classes held 98\n",
      "Number of classes attended. 98\n"
     ]
    },
    {
     "name": "stdout",
     "output_type": "stream",
     "text": [
      "you are allow to sit exam 96.04\n"
     ]
    }
   ],
   "source": [
    "Held=int(input(\" Number of classes held\"))\n",
    "Attendence=int(input(\"Number of classes attended.\"))\n",
    "Percentage=Attendence*Held/100\n",
    "if(Percentage>75):\n",
    "    print(\"you are allow to sit exam\", Percentage)\n",
    "else:\n",
    "    print(\"you are Not allow to sit exam \",Percentage)"
   ]
  },
  {
   "cell_type": "markdown",
   "id": "ee2bb9c7-71f0-4a8b-a3dc-ddf2c16bfdb9",
   "metadata": {},
   "source": [
    "# Modify the above question to allow student to sit if he/she has medical cause. Ask user if he/she has medical cause or not ( 'Y' or 'N' ) and print accordingly.\n"
   ]
  },
  {
   "cell_type": "code",
   "execution_count": 117,
   "id": "57c02e8a-9332-4105-bdc9-d655a16e572c",
   "metadata": {},
   "outputs": [
    {
     "name": "stdin",
     "output_type": "stream",
     "text": [
      "Number of classes held:  32\n",
      "Number of classes attended:  6\n"
     ]
    },
    {
     "name": "stdout",
     "output_type": "stream",
     "text": [
      "Attendance Percentage: 18.75 %\n"
     ]
    },
    {
     "name": "stdin",
     "output_type": "stream",
     "text": [
      "Do you have a medical cause? (Y/N):  y\n"
     ]
    },
    {
     "name": "stdout",
     "output_type": "stream",
     "text": [
      "You have a medical cause, so you are allowed to sit in the exam.\n"
     ]
    }
   ],
   "source": [
    "Held = int(input(\"Number of classes held: \"))\n",
    "Attendance = int(input(\"Number of classes attended: \"))\n",
    "Percentage = (Attendance / Held) * 100\n",
    "print(\"Attendance Percentage:\", Percentage, \"%\")\n",
    "medical_cause = input(\"Do you have a medical cause? (Y/N): \")\n",
    "if Percentage >= 75:\n",
    "    print(\"You are allowed to sit in the exam.\", Percentage, \"%\")\n",
    "elif medical_cause.upper() == \"Y\":\n",
    "    print(\"You have a medical cause, so you are allowed to sit in the exam.\")\n",
    "else:\n",
    "    print(\"You are NOT allowed to sit in the exam.\")\n"
   ]
  },
  {
   "cell_type": "markdown",
   "id": "6b442389-3f06-48a7-840f-1f6a4c5977f7",
   "metadata": {},
   "source": [
    "# Write a program to check if a year is leap year or not.\n",
    "If a year is divisible by 4 then it is leap year but if the year is century year like 2000, 1900, 2100 then it must be divisible by 400."
   ]
  },
  {
   "cell_type": "code",
   "execution_count": 121,
   "id": "7df4cb59-616d-41e0-81f1-096fafd703ce",
   "metadata": {},
   "outputs": [
    {
     "name": "stdin",
     "output_type": "stream",
     "text": [
      "Enter a year:  2028\n"
     ]
    },
    {
     "name": "stdout",
     "output_type": "stream",
     "text": [
      "2028 is a Leap Year\n"
     ]
    }
   ],
   "source": [
    "year = int(input(\"Enter a year: \"))\n",
    "if (year % 400 == 0):\n",
    "    print(year, \"is a Leap Year\")\n",
    "elif (year % 100 == 0):\n",
    "    print(year, \"is NOT a Leap Year\")\n",
    "elif (year % 4 == 0):\n",
    "    print(year, \"is a Leap Year\")\n",
    "else:\n",
    "    print(year, \"is NOT a Leap Year\") "
   ]
  },
  {
   "cell_type": "markdown",
   "id": "795bc90a-6145-4a23-859c-96716f24dbe9",
   "metadata": {},
   "source": [
    "# Ask user to enter age, gender ( M or F ), marital status ( Y or N ) and then using following rules print their place of service.\n",
    "if employee is female, then she will work only in urban areas.\n",
    "\n",
    "if employee is a male and age is in between 20 to 40 then he may work in anywhere\n",
    "\n",
    "if employee is male and age is in between 40 t0 60 then he will work in urban areas only.\n",
    "\n",
    "And any other input of age should print \"ERROR\""
   ]
  },
  {
   "cell_type": "code",
   "execution_count": 143,
   "id": "dca67e5c-527f-4551-baf6-42be039c0c46",
   "metadata": {},
   "outputs": [
    {
     "name": "stdin",
     "output_type": "stream",
     "text": [
      "Enter age:  23\n",
      "Enter gender (M/F):  f\n",
      "Enter marital status (Y/N):  y\n"
     ]
    },
    {
     "name": "stdout",
     "output_type": "stream",
     "text": [
      "She will work only in urban areas.\n"
     ]
    }
   ],
   "source": [
    "age = int(input(\"Enter age: \"))\n",
    "gender = input(\"Enter gender (M/F): \").upper()\n",
    "marital_status = input(\"Enter marital status (Y/N): \").upper()\n",
    "if gender == \"F\":\n",
    "    print(\"She will work only in urban areas.\")\n",
    "elif gender == \"M\":\n",
    "    if  20 <= age <= 40:\n",
    "        print(\"He may work anywhere.\")\n",
    "    elif  40 <  age <= 60:\n",
    "        print(\"He will work only in urban areas.\")\n",
    "    else:\n",
    "        print(\"ERROR\")\n",
    "else:\n",
    "    print(\"Invalid gender input.\")\n"
   ]
  },
  {
   "cell_type": "markdown",
   "id": "affc8dcc-a892-4e06-93c7-207f9e77d699",
   "metadata": {},
   "source": [
    "# Write a program to calculate the electricity bill (accept number of unit from user) according to the following criteria : Unit Price\n",
    "uptp 100 units no charge Next 200 units Rs 5 per unit After 200 units Rs 10 per unit (For example if input unit is 350 than total bill amount is Rs.3500 (For example if input unit is 97 than total bill amount is Rs.0 (For example if input unit is 150 than total bill amount is Rs.750"
   ]
  },
  {
   "cell_type": "code",
   "execution_count": 168,
   "id": "686ea3e1-4681-4aa6-9125-7ddc0ec46701",
   "metadata": {},
   "outputs": [
    {
     "name": "stdin",
     "output_type": "stream",
     "text": [
      "Enter your Electricity bill 300\n"
     ]
    },
    {
     "name": "stdout",
     "output_type": "stream",
     "text": [
      "Your cross 200 units your total bill is:  3000\n"
     ]
    }
   ],
   "source": [
    "unit=int(input(\"Enter your Electricity bill\"))\n",
    "if(unit<=100):\n",
    "    print(\"free electricity\")\n",
    "elif(unit>=100 and unit<=200):\n",
    "    print(\"your cross 100 units your total bill is: \", unit*5)\n",
    "elif(unit>200):\n",
    "    print(\"Your cross 200 units your total bill is: \", unit*10)"
   ]
  },
  {
   "cell_type": "markdown",
   "id": "1166d9d2-5399-4253-97d9-3887c056c3e2",
   "metadata": {},
   "source": [
    "# Take input of age of 3 people by user and determine oldest and youngest among them."
   ]
  },
  {
   "cell_type": "code",
   "execution_count": 7,
   "id": "d63e155e-105a-4392-9d33-7bbb8f12f70b",
   "metadata": {},
   "outputs": [
    {
     "name": "stdin",
     "output_type": "stream",
     "text": [
      "Enter the age of the Naveed person:  44\n",
      "Enter the age of the Pardeep person:  55\n",
      "Enter the age of the Kantesh person:  66\n"
     ]
    },
    {
     "name": "stdout",
     "output_type": "stream",
     "text": [
      "The oldest person is 66 years old.\n",
      "The youngest person is 44 years old.\n"
     ]
    }
   ],
   "source": [
    "age1 = int(input(\"Enter the age of the Naveed person: \"))\n",
    "age2 = int(input(\"Enter the age of the Pardeep person: \"))\n",
    "age3 = int(input(\"Enter the age of the Kantesh person: \"))\n",
    "oldest = max(age1,age2,age3)\n",
    "youngest = min(age1,age2,age3)\n",
    "print(f\"The oldest person is {oldest} years old.\")\n",
    "print(f\"The youngest person is {youngest} years old.\")"
   ]
  },
  {
   "cell_type": "code",
   "execution_count": null,
   "id": "f938af3d-4055-4a9e-9d46-10352956ee3c",
   "metadata": {},
   "outputs": [],
   "source": []
  }
 ],
 "metadata": {
  "kernelspec": {
   "display_name": "Python 3 (ipykernel)",
   "language": "python",
   "name": "python3"
  },
  "language_info": {
   "codemirror_mode": {
    "name": "ipython",
    "version": 3
   },
   "file_extension": ".py",
   "mimetype": "text/x-python",
   "name": "python",
   "nbconvert_exporter": "python",
   "pygments_lexer": "ipython3",
   "version": "3.12.7"
  }
 },
 "nbformat": 4,
 "nbformat_minor": 5
}
