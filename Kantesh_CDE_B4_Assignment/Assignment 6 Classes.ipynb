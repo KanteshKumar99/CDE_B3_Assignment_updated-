{
 "cells": [
  {
   "cell_type": "markdown",
   "id": "35498320-8e2f-422d-9242-5cf8e77ae84e",
   "metadata": {},
   "source": [
    "### 1. Write a Python program to create a class representing a Circle. Include methods to calculate its area and perimeter. ###"
   ]
  },
  {
   "cell_type": "code",
   "execution_count": 7,
   "id": "0755649e-708f-430e-abe7-ceda3efdbd1d",
   "metadata": {},
   "outputs": [
    {
     "name": "stdin",
     "output_type": "stream",
     "text": [
      "Enter the radius of the circle:  10\n"
     ]
    },
    {
     "name": "stdout",
     "output_type": "stream",
     "text": [
      "Area of circle: 314.16\n",
      "-------------------------------------\n",
      "Perimeter of circle: 62.83\n"
     ]
    }
   ],
   "source": [
    "import math\n",
    "class Circle:\n",
    "    def __init__(self, radius):\n",
    "        self.radius = radius\n",
    "    def area(self):\n",
    "        return math.pi * self.radius ** 2\n",
    "    def perimeter(self):\n",
    "        return 2 * math.pi * self.radius\n",
    "r = float(input(\"Enter the radius of the circle: \"))\n",
    "circle = Circle(r)\n",
    "print(f\"Area of circle: {circle.area():.2f}\")\n",
    "print(\"-------------------------------------\")\n",
    "print(f\"Perimeter of circle: {circle.perimeter():.2f}\")"
   ]
  },
  {
   "cell_type": "markdown",
   "id": "0b0077fd-b08d-487e-9974-532c0c24814a",
   "metadata": {},
   "source": [
    "### 2. Write a Python program to create a person class. Include attributes like name, country and date of birth. Implement a method to determine the person's age. ###"
   ]
  },
  {
   "cell_type": "code",
   "execution_count": 9,
   "id": "a9eb8c9d-bd57-4b43-a0ee-5504b2b2062a",
   "metadata": {},
   "outputs": [
    {
     "name": "stdin",
     "output_type": "stream",
     "text": [
      "Enter name:  kantesh\n",
      "Enter country:  pakistan\n",
      "Enter date of birth (YYYY-MM-DD):  2005-1-22\n"
     ]
    },
    {
     "name": "stdout",
     "output_type": "stream",
     "text": [
      "\n",
      "Name: kantesh\n",
      "Country: pakistan\n",
      "Date of Birth: 2005-01-22\n",
      "Age: 20 years\n"
     ]
    }
   ],
   "source": [
    "from datetime import date, datetime\n",
    "class Person:\n",
    "    def __init__(self, name, country, dob):#dob = date of birth (string)\n",
    "        self.name = name\n",
    "        self.country = country\n",
    "        self.date_of_birth = datetime.strptime(dob, \"%Y-%m-%d\").date()  \n",
    "    def calculate_age(self):\n",
    "        today = date.today()\n",
    "        age = today.year - self.date_of_birth.year\n",
    "        if (today.month, today.day) < (self.date_of_birth.month, self.date_of_birth.day):\n",
    "            age -= 1\n",
    "        return age\n",
    "\n",
    "name = input(\"Enter name: \")\n",
    "country = input(\"Enter country: \")\n",
    "dob = input(\"Enter date of birth (YY-MM-DD): \")\n",
    "person = Person(name, country, dob)\n",
    "print(f\"\\nName: {person.name}\")\n",
    "print(f\"Country: {person.country}\")\n",
    "print(f\"Date of Birth: {person.date_of_birth}\")\n",
    "print(f\"Age: {person.calculate_age()} years\")\n"
   ]
  },
  {
   "cell_type": "markdown",
   "id": "a9941124-0975-4f47-a4cd-7daff4b86b43",
   "metadata": {},
   "source": [
    "### 3. Write a Python program to create a calculator class. Include methods for basic arithmetic operations. ###"
   ]
  },
  {
   "cell_type": "code",
   "execution_count": 10,
   "id": "60418571-f67d-4c4e-83fc-22a0a6b8aad4",
   "metadata": {},
   "outputs": [
    {
     "name": "stdin",
     "output_type": "stream",
     "text": [
      "Enter first number:  10\n",
      "Enter second number:  12\n"
     ]
    },
    {
     "name": "stdout",
     "output_type": "stream",
     "text": [
      "Addition: 22.0\n",
      "Subtraction: -2.0\n",
      "Multiplication: 120.0\n",
      "Division: 0.8333333333333334\n"
     ]
    }
   ],
   "source": [
    "class Calculator:\n",
    "    def add(self, a, b):\n",
    "        return a + b\n",
    "    def subtract(self, a, b):\n",
    "        return a - b\n",
    "    def multiply(self, a, b):\n",
    "        return a * b\n",
    "    def divide(self, a, b):\n",
    "        if b == 0:\n",
    "            return \"Error! Division by zero.\"\n",
    "        return a / b\n",
    "calc = Calculator()\n",
    "x = float(input(\"Enter first number: \"))\n",
    "y = float(input(\"Enter second number: \"))\n",
    "print(f\"Addition: {calc.add(x, y)}\")\n",
    "print(f\"Subtraction: {calc.subtract(x, y)}\")\n",
    "print(f\"Multiplication: {calc.multiply(x, y)}\")\n",
    "print(f\"Division: {calc.divide(x, y)}\")"
   ]
  },
  {
   "cell_type": "code",
   "execution_count": null,
   "id": "82479723-5894-45c1-b6ba-b794b4ed1ee6",
   "metadata": {},
   "outputs": [],
   "source": []
  }
 ],
 "metadata": {
  "kernelspec": {
   "display_name": "Python 3 (ipykernel)",
   "language": "python",
   "name": "python3"
  },
  "language_info": {
   "codemirror_mode": {
    "name": "ipython",
    "version": 3
   },
   "file_extension": ".py",
   "mimetype": "text/x-python",
   "name": "python",
   "nbconvert_exporter": "python",
   "pygments_lexer": "ipython3",
   "version": "3.12.7"
  }
 },
 "nbformat": 4,
 "nbformat_minor": 5
}
