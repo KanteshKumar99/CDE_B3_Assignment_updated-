{
 "cells": [
  {
   "cell_type": "markdown",
   "id": "b98de81a-f643-4bff-aa60-3af57abbc63e",
   "metadata": {},
   "source": [
    "# A company decided to give bonus of 5% to employee if his/her year of service is more than 5 years. Ask user for their salary and year of service and print the net bonus amount."
   ]
  },
  {
   "cell_type": "code",
   "execution_count": 1,
   "id": "2e2232b5-341d-4b52-aa86-7f851e13b0d1",
   "metadata": {},
   "outputs": [
    {
     "name": "stdin",
     "output_type": "stream",
     "text": [
      "Enter your Salary:  25000\n",
      "Enter your Service years:  7\n"
     ]
    },
    {
     "name": "stdout",
     "output_type": "stream",
     "text": [
      "your bonus is = 1250.0\n"
     ]
    }
   ],
   "source": [
    "Salary=int(input(\"Enter your Salary: \"))\n",
    "Years=int(input(\"Enter your Service years: \"))\n",
    "if(Years > 5):\n",
    "  print(\"your bonus is =\",5/100*Salary)\n",
    "else:\n",
    "  print(\"No bonus\")"
   ]
  },
  {
   "cell_type": "markdown",
   "id": "54262f7b-0032-4f6a-afdf-50572acc2937",
   "metadata": {},
   "source": [
    "# Write a program to check whether a person is eligible for voting or not. (accept age from user) if age is greater than 17 eligible otherwise not eligible"
   ]
  },
  {
   "cell_type": "code",
   "execution_count": 4,
   "id": "7231cc12-888e-4c6e-8415-27d4e2cd4a87",
   "metadata": {},
   "outputs": [
    {
     "name": "stdin",
     "output_type": "stream",
     "text": [
      "Enter you age 18\n"
     ]
    },
    {
     "name": "stdout",
     "output_type": "stream",
     "text": [
      "you are Eligible\n"
     ]
    }
   ],
   "source": [
    "Age=int(input(\"Enter you age\"))\n",
    "if(Age>=17):\n",
    "  print(\"you are Eligible\")\n",
    "else:\n",
    "  print(\"you are not Eligible: \")"
   ]
  },
  {
   "cell_type": "markdown",
   "id": "e725f08d-fdd0-427c-b092-87a2234b8945",
   "metadata": {},
   "source": [
    "# Write a program to check whether a number entered by user is even or odd."
   ]
  },
  {
   "cell_type": "code",
   "execution_count": 5,
   "id": "1e29a5c7-0d00-4c98-b0aa-bf256f0784a5",
   "metadata": {},
   "outputs": [
    {
     "name": "stdin",
     "output_type": "stream",
     "text": [
      "Write a Number:  33\n"
     ]
    },
    {
     "name": "stdout",
     "output_type": "stream",
     "text": [
      "It is a Odd Number\n"
     ]
    }
   ],
   "source": [
    "Num=int(input(\"Write a Number: \"))\n",
    "if(Num%2==0):\n",
    "  print(\"It is a Even Numer\")\n",
    "else:\n",
    "  print(\"It is a Odd Number\")"
   ]
  },
  {
   "cell_type": "markdown",
   "id": "98aab0ac-2b21-43b3-b3f6-7e91a8046413",
   "metadata": {},
   "source": [
    "# Write a program to check whether a number is divisible by 7 or not. Show Answer"
   ]
  },
  {
   "cell_type": "code",
   "execution_count": 6,
   "id": "8595c812-e762-4f80-bc00-86f89f50e969",
   "metadata": {},
   "outputs": [
    {
     "name": "stdin",
     "output_type": "stream",
     "text": [
      "Write a Number To Check:  77\n"
     ]
    },
    {
     "name": "stdout",
     "output_type": "stream",
     "text": [
      "Divisible by 7\n"
     ]
    }
   ],
   "source": [
    "Num=int(input(\"Write a Number To Check: \"))\n",
    "if(Num%7==0):\n",
    "  print(\"Divisible by 7\")\n",
    "else:\n",
    "  print(\"Not Divisible by 7\")"
   ]
  },
  {
   "cell_type": "markdown",
   "id": "dc2ab41b-a840-4a48-b92b-e984a40068e5",
   "metadata": {},
   "source": [
    "# Write a program to display \"Hello\" if a number entered by user is a multiple of five , otherwise print \"Bye\""
   ]
  },
  {
   "cell_type": "code",
   "execution_count": null,
   "id": "3cc7201f-347b-4e75-b20f-822fc8b50106",
   "metadata": {},
   "outputs": [],
   "source": [
    "User=int(input(\"Enter a Number: \"))\n",
    "if(User%5==0):\n",
    "  print(\"hello\")\n",
    "else:\n",
    "  print(\"Bye\")"
   ]
  },
  {
   "cell_type": "markdown",
   "id": "4b169907-8dc9-4ecb-bf41-c638792f8404",
   "metadata": {},
   "source": [
    "# Write a program to display the last digit of a number."
   ]
  },
  {
   "cell_type": "code",
   "execution_count": 7,
   "id": "58bb3f57-ae65-4b8d-9c59-45ca667c6ba9",
   "metadata": {},
   "outputs": [
    {
     "name": "stdin",
     "output_type": "stream",
     "text": [
      "Enter your number 29788\n"
     ]
    },
    {
     "name": "stdout",
     "output_type": "stream",
     "text": [
      "8\n"
     ]
    }
   ],
   "source": [
    "Num=int(input(\"Enter your number\"))\n",
    "Last_digit=Num%10\n",
    "print(Last_digit)"
   ]
  },
  {
   "cell_type": "markdown",
   "id": "b0dfa552-2a0e-4376-97bc-5abf9fb23833",
   "metadata": {},
   "source": [
    "# Take values of length and breadth of a rectangle from user and print if it is square or rectangle."
   ]
  },
  {
   "cell_type": "code",
   "execution_count": 8,
   "id": "3cdedfca-ddff-44cd-a8b5-ebf001fc1202",
   "metadata": {},
   "outputs": [
    {
     "name": "stdin",
     "output_type": "stream",
     "text": [
      "Enter your Length:  23\n",
      "Enter your Breadh:  23\n"
     ]
    },
    {
     "name": "stdout",
     "output_type": "stream",
     "text": [
      "Length\n"
     ]
    }
   ],
   "source": [
    "Length=int(input(\"Enter your Length: \"))\n",
    "Breadth=int(input(\"Enter your Breadh: \"))\n",
    "if(Length==Breadth):\n",
    "  print(\"Length\")\n",
    "else:\n",
    "  print(\"Rectangle\")"
   ]
  },
  {
   "cell_type": "markdown",
   "id": "8ebd82dd-4f21-4fd6-a184-04c2a2b8964f",
   "metadata": {},
   "source": [
    "# Take two int values from user and print greatest among them."
   ]
  },
  {
   "cell_type": "code",
   "execution_count": 9,
   "id": "9bdac8cb-49d2-47cd-81c7-f8a748edcad1",
   "metadata": {},
   "outputs": [
    {
     "name": "stdin",
     "output_type": "stream",
     "text": [
      "Enter your first int value Number:  12\n",
      "Enter your Secoud int value number:  33\n"
     ]
    },
    {
     "name": "stdout",
     "output_type": "stream",
     "text": [
      "Num2 is Greatest Number 33\n"
     ]
    }
   ],
   "source": [
    "Num1=int(input(\"Enter your first int value Number: \"))\n",
    "Num2=int(input(\"Enter your Secoud int value number: \"))\n",
    "if(Num1>Num2):\n",
    "  print(\"Num1 is Greatest numnber: \", Num1)\n",
    "else:\n",
    "  print(\"Num2 is Greatest Number\", Num2)"
   ]
  },
  {
   "cell_type": "markdown",
   "id": "a7f62900-407b-43c7-8ac1-59f3877f7747",
   "metadata": {},
   "source": [
    "# A shop will give discount of 10% if the cost of purchased quantity is more than 1000. Ask user for quantity Suppose, one unit will cost 100. Judge and print total cost for user"
   ]
  },
  {
   "cell_type": "code",
   "execution_count": 10,
   "id": "00f1eb9a-dcee-409f-a909-a6efa3604b4b",
   "metadata": {},
   "outputs": [
    {
     "name": "stdin",
     "output_type": "stream",
     "text": [
      "Enter your Quantity:  13\n"
     ]
    },
    {
     "name": "stdout",
     "output_type": "stream",
     "text": [
      "You Have 10% Discount:  130.0\n"
     ]
    }
   ],
   "source": [
    "quantity =int(input(\"Enter your Quantity: \"))\n",
    "unit_price = 100\n",
    "total = quantity*100\n",
    "if(total>1000):\n",
    "    print(\"You Have 10% Discount: \", 10/100*total )\n",
    "else:\n",
    "    print(\"You Have Not Discount: \")"
   ]
  },
  {
   "cell_type": "markdown",
   "id": "f3bdff5d-9add-4ea6-800c-f5a9378cfc6f",
   "metadata": {},
   "source": [
    "# A school has following rules for grading system"
   ]
  },
  {
   "cell_type": "code",
   "execution_count": 11,
   "id": "364ea690-9661-49b5-a5a1-aa2012f10ada",
   "metadata": {},
   "outputs": [
    {
     "name": "stdin",
     "output_type": "stream",
     "text": [
      "Enter your marks:  87\n"
     ]
    },
    {
     "name": "stdout",
     "output_type": "stream",
     "text": [
      "You have Got Grade:  A\n"
     ]
    }
   ],
   "source": [
    "marks = int(input(\"Enter your marks: \"))\n",
    "marks=int(marks)\n",
    "if marks < 25:\n",
    "    grade = \"F\"\n",
    "elif marks <= 45:\n",
    "    grade = \"E\"\n",
    "elif marks <= 50:\n",
    "    grade = \"D\"\n",
    "elif marks <= 60:\n",
    "    grade = \"C\"\n",
    "elif marks <= 80:\n",
    "    grade = \"B\"\n",
    "else:\n",
    "    grade = \"A\"\n",
    "print(\"You have Got Grade: \",grade)"
   ]
  },
  {
   "cell_type": "markdown",
   "id": "b3bbdcba-fdbc-4a2b-9bda-68b98ee75b2e",
   "metadata": {},
   "source": [
    "# 14)A student will not be allowed to sit in exam if his/her attendence is less than 75%.\n",
    "Take following input from user Number of classes held Number of classes attended. And print percentage of class attended Is student is allowed to sit in exam or not"
   ]
  },
  {
   "cell_type": "code",
   "execution_count": 12,
   "id": "af214607-c727-485f-a2d4-be8134ca98d0",
   "metadata": {},
   "outputs": [
    {
     "name": "stdin",
     "output_type": "stream",
     "text": [
      " Number of classes held 34\n",
      "Number of classes attended. 44\n"
     ]
    },
    {
     "name": "stdout",
     "output_type": "stream",
     "text": [
      "you are Not allow to sit exam  14.96\n"
     ]
    }
   ],
   "source": [
    "Held=int(input(\" Number of classes held\"))\n",
    "Attendence=int(input(\"Number of classes attended.\"))\n",
    "Percentage=Attendence*Held/100\n",
    "if(Percentage>75):\n",
    "    print(\"you are allow to sit exam\", Percentage)\n",
    "else:\n",
    "    print(\"you are Not allow to sit exam \",Percentage)"
   ]
  },
  {
   "cell_type": "markdown",
   "id": "f8b10fa2-9530-427c-a50e-f38f7e047249",
   "metadata": {},
   "source": [
    "\n",
    "# Modify the above question to allow student to sit if he/she has medical cause. Ask user if he/she has medical cause or not ( 'Y' or 'N' ) and print accordingly."
   ]
  },
  {
   "cell_type": "code",
   "execution_count": 13,
   "id": "c6714e58-7d8d-4522-aa7f-0cff645a1819",
   "metadata": {},
   "outputs": [
    {
     "name": "stdin",
     "output_type": "stream",
     "text": [
      "Number of classes held:  34\n",
      "Number of classes attended:  98\n"
     ]
    },
    {
     "name": "stdout",
     "output_type": "stream",
     "text": [
      "Attendance Percentage: 288.2352941176471 %\n"
     ]
    },
    {
     "name": "stdin",
     "output_type": "stream",
     "text": [
      "Do you have a medical cause? (Y/N):  n\n"
     ]
    },
    {
     "name": "stdout",
     "output_type": "stream",
     "text": [
      "You are allowed to sit in the exam. 288.2352941176471 %\n"
     ]
    }
   ],
   "source": [
    "Held = int(input(\"Number of classes held: \"))\n",
    "Attendance = int(input(\"Number of classes attended: \"))\n",
    "Percentage = (Attendance / Held) * 100\n",
    "print(\"Attendance Percentage:\", Percentage, \"%\")\n",
    "medical_cause = input(\"Do you have a medical cause? (Y/N): \")\n",
    "if Percentage >= 75:\n",
    "    print(\"You are allowed to sit in the exam.\", Percentage, \"%\")\n",
    "elif medical_cause.upper() == \"Y\":\n",
    "    print(\"You have a medical cause, so you are allowed to sit in the exam.\")\n",
    "else:\n",
    "    print(\"You are NOT allowed to sit in the exam.\")"
   ]
  },
  {
   "cell_type": "markdown",
   "id": "4899ee43-9b7b-4cce-aff0-215c83485915",
   "metadata": {},
   "source": [
    "# Write a program to check if a year is leap year or not.¶\n",
    "If a year is divisible by 4 then it is leap year but if the year is century year like 2000, 1900, 2100 then it must be divisible by 400."
   ]
  },
  {
   "cell_type": "code",
   "execution_count": 14,
   "id": "8435e064-741b-491a-95c4-d9328f316a90",
   "metadata": {},
   "outputs": [
    {
     "name": "stdin",
     "output_type": "stream",
     "text": [
      "Enter a year:  2034\n"
     ]
    },
    {
     "name": "stdout",
     "output_type": "stream",
     "text": [
      "2034 is NOT a Leap Year\n"
     ]
    }
   ],
   "source": [
    "year = int(input(\"Enter a year: \"))\n",
    "if (year % 400 == 0):\n",
    "    print(year, \"is a Leap Year\")\n",
    "elif (year % 100 == 0):\n",
    "    print(year, \"is NOT a Leap Year\")\n",
    "elif (year % 4 == 0):\n",
    "    print(year, \"is a Leap Year\")\n",
    "else:\n",
    "    print(year, \"is NOT a Leap Year\") "
   ]
  },
  {
   "cell_type": "markdown",
   "id": "90f32719-ce76-4a15-a55b-d16955aedddf",
   "metadata": {},
   "source": [
    "# Ask user to enter age, gender ( M or F ), marital status ( Y or N ) and then using following rules print their place of service.\n",
    "if employee is female, then she will work only in urban areas.\n",
    "if employee is a male and age is in between 20 to 40 then he may work in anywhere\n",
    "if employee is male and age is in between 40 t0 60 then he will work in urban areas only.\n",
    "And any other input of age should print \"ERROR\"\n",
    "Selection deleted\n"
   ]
  },
  {
   "cell_type": "code",
   "execution_count": 15,
   "id": "827b31b0-89dd-4a55-bc10-b04deb59e0a1",
   "metadata": {},
   "outputs": [
    {
     "name": "stdin",
     "output_type": "stream",
     "text": [
      "Enter age:  34\n",
      "Enter gender (M/F):  m\n",
      "Enter marital status (Y/N):  y\n"
     ]
    },
    {
     "name": "stdout",
     "output_type": "stream",
     "text": [
      "He may work anywhere.\n"
     ]
    }
   ],
   "source": [
    "age = int(input(\"Enter age: \"))\n",
    "gender = input(\"Enter gender (M/F): \").upper()\n",
    "marital_status = input(\"Enter marital status (Y/N): \").upper()\n",
    "if gender == \"F\":\n",
    "    print(\"She will work only in urban areas.\")\n",
    "elif gender == \"M\":\n",
    "    if  20 <= age <= 40:\n",
    "        print(\"He may work anywhere.\")\n",
    "    elif  40 <  age <= 60:\n",
    "        print(\"He will work only in urban areas.\")\n",
    "    else:\n",
    "        print(\"ERROR\")\n",
    "else:\n",
    "    print(\"Invalid gender input.\")"
   ]
  },
  {
   "cell_type": "markdown",
   "id": "079f943e-c8ab-4128-aa32-8ca6bc840ffc",
   "metadata": {},
   "source": [
    "# Write a program to calculate the electricity bill (accept number of unit from user) according to the following criteria : Unit Price\n",
    "uptp 100 units no charge Next 200 units Rs 5 per unit After 200 units Rs 10 per unit (For example if input unit is 350 than total bill amount is Rs.3500 (For example if input unit is 97 than total bill amount is Rs.0 (For example if input unit is 150 than total bill amount is Rs.750"
   ]
  },
  {
   "cell_type": "code",
   "execution_count": 16,
   "id": "5f1c64c2-fe8e-450e-9239-f62801c463a2",
   "metadata": {},
   "outputs": [
    {
     "name": "stdin",
     "output_type": "stream",
     "text": [
      "Enter your Electricity bill 200\n"
     ]
    },
    {
     "name": "stdout",
     "output_type": "stream",
     "text": [
      "your cross 100 units your total bill is:  1000\n"
     ]
    }
   ],
   "source": [
    "unit=int(input(\"Enter your Electricity bill\"))\n",
    "if(unit<=100):\n",
    "    print(\"free electricity\")\n",
    "elif(unit>=100 and unit<=200):\n",
    "    print(\"your cross 100 units your total bill is: \", unit*5)\n",
    "elif(unit>200):\n",
    "    print(\"Your cross 200 units your total bill is: \", unit*10)"
   ]
  },
  {
   "cell_type": "markdown",
   "id": "fe66a023-416a-4aef-9f77-12762bb8d0f4",
   "metadata": {},
   "source": [
    "# Take input of age of 3 people by user and determine oldest and youngest among them."
   ]
  },
  {
   "cell_type": "code",
   "execution_count": 17,
   "id": "50d26fdf-98b6-48d1-b7ef-3d84674ca035",
   "metadata": {},
   "outputs": [
    {
     "name": "stdin",
     "output_type": "stream",
     "text": [
      "Enter the age of the first person:  34\n",
      "Enter the age of the second person:  32\n",
      "Enter the age of the third person:  35\n"
     ]
    },
    {
     "name": "stdout",
     "output_type": "stream",
     "text": [
      "The oldest person is 35 years old.\n",
      "The youngest person is 32 years old.\n"
     ]
    }
   ],
   "source": [
    "age1 = int(input(\"Enter the age of the first person: \"))\n",
    "age2 = int(input(\"Enter the age of the second person: \"))\n",
    "age3 = int(input(\"Enter the age of the third person: \"))\n",
    "oldest = max(age1, age2, age3)\n",
    "youngest = min(age1, age2, age3)\n",
    "print(f\"The oldest person is {oldest} years old.\")\n",
    "print(f\"The youngest person is {youngest} years old.\")"
   ]
  },
  {
   "cell_type": "code",
   "execution_count": null,
   "id": "2e3ba602-32e8-47fe-a1ed-b1013570be75",
   "metadata": {},
   "outputs": [],
   "source": []
  }
 ],
 "metadata": {
  "kernelspec": {
   "display_name": "Python 3 (ipykernel)",
   "language": "python",
   "name": "python3"
  },
  "language_info": {
   "codemirror_mode": {
    "name": "ipython",
    "version": 3
   },
   "file_extension": ".py",
   "mimetype": "text/x-python",
   "name": "python",
   "nbconvert_exporter": "python",
   "pygments_lexer": "ipython3",
   "version": "3.12.7"
  }
 },
 "nbformat": 4,
 "nbformat_minor": 5
}
